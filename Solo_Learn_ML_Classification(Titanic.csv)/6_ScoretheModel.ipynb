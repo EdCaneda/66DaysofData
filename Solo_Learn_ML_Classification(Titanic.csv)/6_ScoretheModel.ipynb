{
 "cells": [
  {
   "cell_type": "markdown",
   "metadata": {},
   "source": [
    "We can get a sense of how good our model is by counting the number of datapoints it predicts correctly. This is called the __accuracy score__."
   ]
  },
  {
   "cell_type": "code",
   "execution_count": 1,
   "metadata": {},
   "outputs": [],
   "source": [
    "import pandas as pd\n",
    "from sklearn.linear_model import LogisticRegression\n"
   ]
  },
  {
   "cell_type": "code",
   "execution_count": 2,
   "metadata": {},
   "outputs": [],
   "source": [
    "df = pd.read_csv('https://sololearn.com/uploads/files/titanic.csv')\n",
    "df['male'] = df['Sex'] == 'male'\n",
    "X = df[['Pclass', 'male', 'Age', 'Siblings/Spouses', 'Parents/Children', 'Fare']].values\n",
    "y = df['Survived'].values"
   ]
  },
  {
   "cell_type": "code",
   "execution_count": 3,
   "metadata": {},
   "outputs": [
    {
     "data": {
      "text/plain": [
       "LogisticRegression()"
      ]
     },
     "execution_count": 3,
     "metadata": {},
     "output_type": "execute_result"
    }
   ],
   "source": [
    "model = LogisticRegression()\n",
    "model.fit(X, y)"
   ]
  },
  {
   "cell_type": "code",
   "execution_count": 4,
   "metadata": {},
   "outputs": [
    {
     "name": "stdout",
     "output_type": "stream",
     "text": [
      "714\n",
      "0.8049605411499436\n"
     ]
    }
   ],
   "source": [
    "# Let's create an array that has the predicted y values.\n",
    "y_pred = model.predict(X)\n",
    "\n",
    "# Now we create an array of boolean values of whether or not our model predicted each passenger correctly.\n",
    "# y == y_pred\n",
    "\n",
    "To get the number of these that are true, we can use the numpy sum method.\n",
    "# (y==y_pred).sum()\n",
    "\n",
    "print((y == y_pred).sum())\n",
    "\n",
    "# Answer is 714\n",
    "# This means that of the 887 datapoints, the model makes the correct prediction for 714 of them.\n"
   ]
  },
  {
   "cell_type": "code",
   "execution_count": 6,
   "metadata": {},
   "outputs": [
    {
     "name": "stdout",
     "output_type": "stream",
     "text": [
      "0.8049605411499436\n"
     ]
    }
   ],
   "source": [
    "# To get the precent correct, we divide this by the total number of passengers.\n",
    "# We get the total number of passengers using the shape attribute.\n",
    "# y.shape[0]\n",
    "\n",
    "print((y == y_pred).sum() / y.shape[0])\n",
    "# Thus our accuracy score is computed as above. \n",
    "# answer: 0.8038331454340474 or 80% accuracy"
   ]
  },
  {
   "cell_type": "code",
   "execution_count": 7,
   "metadata": {},
   "outputs": [
    {
     "name": "stdout",
     "output_type": "stream",
     "text": [
      "0.8049605411499436\n"
     ]
    }
   ],
   "source": [
    "# This is a common enough calculation, that sklearn has already implemented it for us. \n",
    "# So we can get the same result by using the SCORE METHOD.\n",
    "# The score method uses the model to make a prediction for X and counts what percent of them match y\n",
    "\n",
    "print(model.score(X, y))\n",
    "\n",
    "# WIth this alternative method of calculating accuracy, we get the same value, 80%.\n"
   ]
  }
 ],
 "metadata": {
  "kernelspec": {
   "display_name": "Python 3",
   "language": "python",
   "name": "python3"
  },
  "language_info": {
   "codemirror_mode": {
    "name": "ipython",
    "version": 3
   },
   "file_extension": ".py",
   "mimetype": "text/x-python",
   "name": "python",
   "nbconvert_exporter": "python",
   "pygments_lexer": "ipython3",
   "version": "3.7.7"
  }
 },
 "nbformat": 4,
 "nbformat_minor": 4
}
